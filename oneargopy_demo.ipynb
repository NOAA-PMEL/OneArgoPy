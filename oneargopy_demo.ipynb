{
 "cells": [
  {
   "cell_type": "markdown",
   "metadata": {
    "id": "-2iWk-pwzdt9"
   },
   "source": [
    "# Introduction\n",
    "oneargopy is a library designed to ease the access to Argo float data. This notebook is meant to briefly explain and give examples of some of the functionality of oneargopy."
   ]
  },
  {
   "cell_type": "markdown",
   "metadata": {
    "id": "xr9kzgMhMvmX"
   },
   "source": [
    "# Setup\n"
   ]
  },
  {
   "cell_type": "code",
   "execution_count": null,
   "metadata": {
    "colab": {
     "base_uri": "https://localhost:8080/"
    },
    "id": "gP9Gb3xnMiBn",
    "outputId": "401221e7-d4e0-4972-893f-5893cf030187",
    "tags": []
   },
   "outputs": [],
   "source": [
    "pip install oneargopy"
   ]
  },
  {
   "cell_type": "code",
   "execution_count": null,
   "metadata": {
    "id": "4CJulKVmsprA",
    "tags": []
   },
   "outputs": [],
   "source": [
    "from oneargopy.OneArgo import Argo"
   ]
  },
  {
   "cell_type": "markdown",
   "metadata": {
    "id": "uG0doAYbPy8a"
   },
   "source": [
    "# Constructor\n",
    "  \n",
    "\n",
    "\n",
    "\n"
   ]
  },
  {
   "cell_type": "markdown",
   "metadata": {
    "id": "jGPMQGWwbQNl"
   },
   "source": [
    "The Argo constructor downloads the index files from either one of the Argo Global Data Assembly Centers (GDAC) and stores them in the proper directories defined in the DownloadSettings class. It then constructs the dataframes from the argo_synthetic-profile_index.txt file and the ar_index_global_prof.txt file for use in class function calls. Two of the dataframes are a reflection of the index files, the third dataframe is a two column frame with float ids and if they are a bgc float or not.\n",
    "\n",
    "There are two different ways to call the Argo class constructor, with or without an argument (the path to the configuration json file).\n",
    "\n",
    "Argo has a few settings classes that it uses internally to determine the location of files and the hosts to pull data from. You can either call the constructor with default settings or call the constructor with a passed user configuration file."
   ]
  },
  {
   "cell_type": "markdown",
   "metadata": {
    "id": "7JRn9Kk21vAi"
   },
   "source": [
    "## User Configuration: Load settings from a json file"
   ]
  },
  {
   "cell_type": "markdown",
   "metadata": {
    "id": "bYjFqZjXbvXJ"
   },
   "source": [
    "The standard way to initalize OneArgoPy is to pass a path to a json configuration file to the constructor. An example of the configuration json file can be found in the [oneargopy Github repository](https://github.com/NOAA-PMEL/OneArgoPy/blob/main/argo_config.json).\n",
    "\n",
    "The settings can be adjusted to the user's preference using this configuration file. This must be done before calling the Argo constructor.\n",
    "The file name used here refers to the sample json file that is part of the github repository.\n",
    "\n",
    "For use in google colab the base_dir should be something like \"/content/folder\" because 'content' is the name of the base folder in the files section of google colab.\n",
    "\n",
    "*NOTE*: When you call the constructor without arguments, OneArgoPy uses default values for these settings and the folders needed to store the Argo data files will be created in the same directory that the Argo class is in. If you used the standard installation with pip, this will be in the Python repository path, which is probably not ideal."
   ]
  },
  {
   "cell_type": "code",
   "execution_count": null,
   "metadata": {
    "colab": {
     "base_uri": "https://localhost:8080/"
    },
    "id": "Nzyrlb4g2Ex6",
    "outputId": "38fb59d3-19f7-4fff-8969-a657caee9b86",
    "tags": []
   },
   "outputs": [],
   "source": [
    "# Call constructor and initialize the library. \n",
    "# This includes downloading the latest versions of the index files if necessary.\n",
    "argo = Argo('argo_config.json')"
   ]
  },
  {
   "cell_type": "markdown",
   "metadata": {
    "id": "Zi8sMguUzzWp"
   },
   "source": [
    "# Functions"
   ]
  },
  {
   "cell_type": "markdown",
   "metadata": {
    "id": "zrdhSJmeb579"
   },
   "source": [
    "oneargopy currently has four public functions to help scientists access and analyze Argo float data."
   ]
  },
  {
   "cell_type": "markdown",
   "metadata": {
    "id": "3BQWxpoPVc3T"
   },
   "source": [
    "## select_profiles()"
   ]
  },
  {
   "cell_type": "markdown",
   "metadata": {
    "id": "C963aaHBcRBh"
   },
   "source": [
    "select_profiles is a public function of the Argo class that returns a dictionary of float IDs (keys) and profile lists (values) that match the passed criteria.\n",
    "\n",
    "The profiles can be selected based on geographic limits, date limits, specific float IDs, ocean basin, and float type ('bgc' for biogeochemical floats, 'phys' for floats without biogeochemical sensors, or 'all' for all floats, which is the default).\n",
    "\n",
    "They can be further modified based on an 'outside' parameter which by default is None but can be set to 'time' or 'space' or 'both': By default, only float profiles that are within both the temporal and spatial constraints are returned (None); specify 'time' to also maintain profiles outside of the temporal constraints, 'space' to maintain profiles outside of spatial constraints, or 'both' to keep both, i.e., all profiles of all floats that have at least one profile that matches both temporal and spatial constraints simultaneously.\n",
    "\n",
    "The longitude and latitude limits can be entered as either two-element lists, in which case the limits will be interpreted as maximum and minimum limits that form a rectangle, or they can be entered as longer lists (of matching lengths) in which case each pair of longitude and latitude values correspond to a vertex of a polygon. The longitude and latitude limits can be input in any 360 degree range that encloses all the desired longitude values, e.g., lon_lim=[20, 370] will include all profiles between 20E and 360E as well as 0 to 10E.\n",
    "In the two-element format, it is possible to enter only longitudes or latitudes. For instance, specify lat_lim=[-90, -60] to restrict your search to the Southern Ocean."
   ]
  },
  {
   "cell_type": "markdown",
   "metadata": {
    "id": "LkX6mA5UfcFC"
   },
   "source": [
    "## Example 1: Biogeochemical floats along the US West Coast\n",
    "This example is selecting biogeochemical floats along the US West coast with profiles from 2021 until now."
   ]
  },
  {
   "cell_type": "code",
   "execution_count": null,
   "metadata": {
    "colab": {
     "base_uri": "https://localhost:8080/"
    },
    "id": "p8nZ7GgcViLM",
    "outputId": "f268b5d2-1e8e-4742-af07-4143b671b581",
    "tags": []
   },
   "outputs": [],
   "source": [
    "profiles_uswc = argo.select_profiles(lon_lim=[-127,-115], lat_lim=[32.5,48.5], \n",
    "                                     start_date='2021-01-01', type='bgc')"
   ]
  },
  {
   "cell_type": "markdown",
   "metadata": {
    "id": "qmOm_nGmgfby"
   },
   "source": [
    "## Example 2: All profiles of a specified float\n",
    "If no geographic or date range are given, OneArgoPy will select all floats and profiles that match the other criteria. If no criteria are specified at all (\"select_profiles()\"), all floats and profiles will be returned.\n",
    "\n",
    "You can also specify one float by its WMO ID as shown here, or multiple floats with a list, e.g: floats=[5906441, 5906446, 5906507]. Without specifying further criteria, all of its profiles will be returned.\n",
    "\n",
    "Here we select the profiles for a float off the coast of Hawaii."
   ]
  },
  {
   "cell_type": "code",
   "execution_count": null,
   "metadata": {
    "colab": {
     "base_uri": "https://localhost:8080/"
    },
    "id": "WNBHGJh6gzLe",
    "outputId": "fafd34ef-953a-4506-cce8-0618b22f5f7c",
    "tags": []
   },
   "outputs": [],
   "source": [
    "profiles_hawaii = argo.select_profiles(floats=5903611)\n",
    "profiles_hawaii"
   ]
  },
  {
   "cell_type": "markdown",
   "metadata": {
    "id": "08JmBaunXnVp"
   },
   "source": [
    "## trajectories()"
   ]
  },
  {
   "cell_type": "markdown",
   "metadata": {
    "id": "6YjhrFFmgCZ9"
   },
   "source": [
    "This function plots the trajectories of one or more specified float(s).\n",
    "\n",
    "Floats can be passed as a singular ID (int), a list of IDs, or a dictonary returned from the select_profiles function, in which case only the passed profiles will be plotted."
   ]
  },
  {
   "cell_type": "markdown",
   "metadata": {
    "id": "6fb3tjnkf7fP"
   },
   "source": [
    "In this example we use the trajectories function to plot the profiles we selected along the US West coast."
   ]
  },
  {
   "cell_type": "code",
   "execution_count": null,
   "metadata": {
    "colab": {
     "base_uri": "https://localhost:8080/",
     "height": 1000
    },
    "id": "tKZitTOlXsjq",
    "outputId": "66175f42-fceb-4afc-9c21-975f4f9d0858",
    "tags": []
   },
   "outputs": [],
   "source": [
    "argo.trajectories(profiles_uswc)"
   ]
  },
  {
   "cell_type": "markdown",
   "metadata": {
    "id": "X0qeHntshDIy"
   },
   "source": [
    "In this example we plot the full trajectory of the float we selected along the coast of Hawaii."
   ]
  },
  {
   "cell_type": "code",
   "execution_count": null,
   "metadata": {
    "colab": {
     "base_uri": "https://localhost:8080/",
     "height": 584
    },
    "id": "TfqqlRrYhJcL",
    "outputId": "49a8f096-d7fd-4613-e4a4-5237f3777a54",
    "tags": []
   },
   "outputs": [],
   "source": [
    "argo.trajectories(profiles_hawaii)"
   ]
  },
  {
   "cell_type": "markdown",
   "metadata": {
    "id": "mCqB3mYdXn4K"
   },
   "source": [
    "## load_float_data()"
   ]
  },
  {
   "cell_type": "markdown",
   "metadata": {},
   "source": [
    "load_float_data() is a function to load float profile data into memory from the netCDF files stored on the GDAC. These netCDF files will be downloaded unless the current version of them exists locally already.\n",
    "\n",
    "To specify what float data to load, the user must pass floats (as either a single ID, a list of IDs, or a dictonary as returned from the select_profiles function to potentially limit the matching profiles) and can optionally pass a list of variables that they would like to be included in the dataframe. For each variable, its associated variables will be loaded as well, i.e., in the TEMP example: TEMP_QC, TEMP_ADJUSTED, TEMP_ADJUSTED_QC, TEMP_ADJUSTED_ERROR\n",
    "\n",
    "By default, i.e., without specifying any variables, only depth-independent variables (one value per profile) are included: WMOID, CYCLE_NUMBER, DIRECTION, DATE, DATE_QC, LATITUDE, LONGITUDE, and POSITION_QC"
   ]
  },
  {
   "cell_type": "markdown",
   "metadata": {},
   "source": [
    "In this example we pass the profiles we selected along the west coast and load temperature data for these floats."
   ]
  },
  {
   "cell_type": "code",
   "execution_count": null,
   "metadata": {
    "colab": {
     "base_uri": "https://localhost:8080/"
    },
    "id": "h64shE6DX2Az",
    "outputId": "e3cbbc07-359f-4a18-c806-9e3f8a0b0be6",
    "tags": []
   },
   "outputs": [],
   "source": [
    "uswc_float_data = argo.load_float_data(profiles_uswc, 'TEMP')"
   ]
  },
  {
   "cell_type": "markdown",
   "metadata": {},
   "source": [
    "The data are loaded into a standard pandas dataframe:"
   ]
  },
  {
   "cell_type": "code",
   "execution_count": null,
   "metadata": {
    "tags": []
   },
   "outputs": [],
   "source": [
    "uswc_float_data"
   ]
  },
  {
   "cell_type": "markdown",
   "metadata": {},
   "source": [
    "Since the data are now in a pandas dataframe, it is easy to filter them further. For all scientific uses, the \"_ADJUSTED\" values should be used instead of the raw data.\n",
    "\n",
    "Here we select adjusted temperature data at a pressure level of 200 dbar:"
   ]
  },
  {
   "cell_type": "code",
   "execution_count": null,
   "metadata": {
    "tags": []
   },
   "outputs": [],
   "source": [
    "uswc_temp_200db = uswc_float_data[(abs(uswc_float_data['PRES_ADJUSTED'] - 200) < 0.5) & uswc_float_data['TEMP_ADJUSTED_QC'] == 1]\n",
    "uswc_temp_200db['TEMP_ADJUSTED']"
   ]
  },
  {
   "cell_type": "markdown",
   "metadata": {},
   "source": [
    "## Map plots at specified depths\n",
    "\n",
    "It is now easy to create a map of temperature at this depth level:"
   ]
  },
  {
   "cell_type": "code",
   "execution_count": null,
   "metadata": {},
   "outputs": [],
   "source": [
    "import cartopy.crs as ccrs\n",
    "import matplotlib.pyplot as plt\n",
    "import cartopy.feature as cfeature\n",
    "import matplotlib.cm as cm\n",
    "import matplotlib.colors as mcolors\n",
    "\n",
    "fig = plt.figure(figsize=(6, 10))\n",
    "ax = plt.axes(projection=ccrs.PlateCarree())\n",
    "\n",
    "# Adding features\n",
    "ax.add_feature(cfeature.COASTLINE)\n",
    "ax.add_feature(cfeature.BORDERS, linestyle=':')\n",
    "ax.add_feature(cfeature.LAND, edgecolor='black')\n",
    "ax.add_feature(cfeature.OCEAN)\n",
    "\n",
    "sc = ax.scatter(uswc_temp_200db['LONGITUDE'], uswc_temp_200db['LATITUDE'],\n",
    "           c=uswc_temp_200db['TEMP_ADJUSTED'], cmap='viridis', s=100)\n",
    "\n",
    "# Colorbar\n",
    "cbar = plt.colorbar(sc, ax=ax, orientation='vertical', pad=0.05)\n",
    "cbar.set_label('Adjusted temperature (deg C)')\n",
    "\n",
    "plt.title('Map of adjusted temperature at 200 dbar along the US West Coast');"
   ]
  },
  {
   "cell_type": "markdown",
   "metadata": {},
   "source": [
    "In the next example we load the float data for the Hawaii biogeochemical float we specified earlier."
   ]
  },
  {
   "cell_type": "code",
   "execution_count": null,
   "metadata": {
    "tags": []
   },
   "outputs": [],
   "source": [
    "hawaii_float_data = argo.load_float_data(profiles_hawaii, ['TEMP','DOXY'])\n",
    "hawaii_float_data"
   ]
  },
  {
   "cell_type": "markdown",
   "metadata": {
    "tags": []
   },
   "source": [
    "Now we select all rows where TEMP_ADJUSTED and DOXY_ADJUSTED have good data, indicated by a value of 1 in their respetive _QC columns:"
   ]
  },
  {
   "cell_type": "code",
   "execution_count": null,
   "metadata": {},
   "outputs": [],
   "source": [
    "hawaii_good_T_O2 = hawaii_float_data[(hawaii_float_data['TEMP_ADJUSTED_QC'] == 1) & (hawaii_float_data['DOXY_ADJUSTED_QC'] == 1)]\n",
    "hawaii_good_T_O2.head()"
   ]
  },
  {
   "cell_type": "markdown",
   "metadata": {},
   "source": [
    "## Correlation plot between two variables\n",
    "\n",
    "Now we create a T-O2 plot from these data:"
   ]
  },
  {
   "cell_type": "code",
   "execution_count": null,
   "metadata": {
    "tags": []
   },
   "outputs": [],
   "source": [
    "fig, ax = plt.subplots()\n",
    "\n",
    "ax.scatter(hawaii_good_T_O2['TEMP_ADJUSTED'], hawaii_good_T_O2['DOXY_ADJUSTED'], s=3, c='k')\n",
    "\n",
    "#ax.set(xlim=(0, 8), xticks=np.arange(1, 8),\n",
    "#       ylim=(0, 8), yticks=np.arange(1, 8))\n",
    "plt.xlabel('Temperature (deg C)')\n",
    "plt.ylabel('Dissolved Oxygen (umol/kg)')\n",
    "plt.show()"
   ]
  },
  {
   "cell_type": "markdown",
   "metadata": {
    "id": "Ol38JwBBXgw_"
   },
   "source": [
    "## sections()\n",
    "\n",
    "sections() is a function to create section plots along the float trajectory for the passed variables using data from the passed float_data dataframe.\n",
    "\n",
    "It uses the return value from the load_float_data() function as first argument.\n",
    "\n",
    "In this example produces temperature section plots for the data from the the west coast floats that we selected and loaded into memory previousy. A separate plot is created for each one of the floats."
   ]
  },
  {
   "cell_type": "code",
   "execution_count": null,
   "metadata": {
    "tags": []
   },
   "outputs": [],
   "source": [
    "argo.sections(uswc_float_data, 'TEMP_ADJUSTED')"
   ]
  },
  {
   "cell_type": "markdown",
   "metadata": {},
   "source": [
    "The next example creates section plots for adjusted data of dissolved oxygen and temperatue for the data from the Hawaii float:"
   ]
  },
  {
   "cell_type": "code",
   "execution_count": null,
   "metadata": {
    "tags": []
   },
   "outputs": [],
   "source": [
    "argo.sections(hawaii_float_data, ['DOXY_ADJUSTED', 'TEMP_ADJUSTED'])"
   ]
  }
 ],
 "metadata": {
  "colab": {
   "collapsed_sections": [
    "xr9kzgMhMvmX",
    "uG0doAYbPy8a",
    "1UMudW-J1r3O",
    "7JRn9Kk21vAi"
   ],
   "provenance": [],
   "toc_visible": true
  },
  "kernelspec": {
   "display_name": "Python 3 (ipykernel)",
   "language": "python",
   "name": "python3"
  },
  "language_info": {
   "codemirror_mode": {
    "name": "ipython",
    "version": 3
   },
   "file_extension": ".py",
   "mimetype": "text/x-python",
   "name": "python",
   "nbconvert_exporter": "python",
   "pygments_lexer": "ipython3",
   "version": "3.11.5"
  }
 },
 "nbformat": 4,
 "nbformat_minor": 4
}
